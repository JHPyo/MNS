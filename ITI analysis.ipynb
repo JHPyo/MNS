{
 "cells": [
  {
   "cell_type": "code",
   "execution_count": 1,
   "metadata": {},
   "outputs": [
    {
     "name": "stdout",
     "output_type": "stream",
     "text": [
      "F:\\Data\\Two-way active avoidance behavior\\Experiments 별 정리\\WT\\Female\\L158\\ptc\n",
      "In Processing :F:\\Data\\Two-way active avoidance behavior\\Experiments 별 정리\\WT\\Female\\L158\\ptc\\2023_09_17__11_27_00_L158M1D1 WT.csv\n",
      "In Processing :F:\\Data\\Two-way active avoidance behavior\\Experiments 별 정리\\WT\\Female\\L158\\ptc\\2023_09_17__11_27_01_L158M2D1 WT.csv\n",
      "In Processing :F:\\Data\\Two-way active avoidance behavior\\Experiments 별 정리\\WT\\Female\\L158\\ptc\\2023_09_17__13_17_00_L158M3D1 WT.csv\n",
      "In Processing :F:\\Data\\Two-way active avoidance behavior\\Experiments 별 정리\\WT\\Female\\L158\\ptc\\2023_09_17__13_17_01_L158M4D1 WT.csv\n",
      "In Processing :F:\\Data\\Two-way active avoidance behavior\\Experiments 별 정리\\WT\\Female\\L158\\ptc\\2023_09_18__10_15_00_L158M1D2 wt.csv\n",
      "In Processing :F:\\Data\\Two-way active avoidance behavior\\Experiments 별 정리\\WT\\Female\\L158\\ptc\\2023_09_18__10_15_01_L158M2D2 WT.csv\n",
      "In Processing :F:\\Data\\Two-way active avoidance behavior\\Experiments 별 정리\\WT\\Female\\L158\\ptc\\2023_09_18__11_49_00_L158M3D2 wt.csv\n",
      "In Processing :F:\\Data\\Two-way active avoidance behavior\\Experiments 별 정리\\WT\\Female\\L158\\ptc\\2023_09_18__11_49_01_L158M4D2 WT.csv\n",
      "In Processing :F:\\Data\\Two-way active avoidance behavior\\Experiments 별 정리\\WT\\Female\\L158\\ptc\\2023_09_19__10_34_00_L158M1D3 WT.csv\n",
      "In Processing :F:\\Data\\Two-way active avoidance behavior\\Experiments 별 정리\\WT\\Female\\L158\\ptc\\2023_09_19__10_34_01_L158M2D3 WT.csv\n",
      "In Processing :F:\\Data\\Two-way active avoidance behavior\\Experiments 별 정리\\WT\\Female\\L158\\ptc\\2023_09_19__12_02_00_L158M3D3 WT.csv\n",
      "In Processing :F:\\Data\\Two-way active avoidance behavior\\Experiments 별 정리\\WT\\Female\\L158\\ptc\\2023_09_19__12_02_01_L158M4D3 WT.csv\n",
      "In Processing :F:\\Data\\Two-way active avoidance behavior\\Experiments 별 정리\\WT\\Female\\L158\\ptc\\2023_09_20__11_59_00_L158M1T WT.csv\n",
      "In Processing :F:\\Data\\Two-way active avoidance behavior\\Experiments 별 정리\\WT\\Female\\L158\\ptc\\2023_09_20__11_59_01_L158M2T WT.csv\n",
      "In Processing :F:\\Data\\Two-way active avoidance behavior\\Experiments 별 정리\\WT\\Female\\L158\\ptc\\2023_09_20__12_31_00_L158M3T WT.csv\n",
      "In Processing :F:\\Data\\Two-way active avoidance behavior\\Experiments 별 정리\\WT\\Female\\L158\\ptc\\2023_09_20__12_31_01_L158M4T WT.csv\n"
     ]
    }
   ],
   "source": [
    "import pandas as pd\n",
    "import os\n",
    "\n",
    "def createFolder(directory):\n",
    "    try:\n",
    "        if not os.path.exists(directory):\n",
    "            os.makedirs(directory)\n",
    "    except OSError: \n",
    "        print ('Error: Creating directory.' + directory)\n",
    "\n",
    "path =  r'F:\\Data\\Two-way active avoidance behavior\\Experiments 별 정리\\WT\\Female\\L158\\ptc'\n",
    "print (path)  # 원하는 xlsx파일들이 포함된 폴더를 선택 #\n",
    "\n",
    "createFolder(path[:-3] +'/ITI/')\n",
    "\n",
    "for root, dirs, files in os.walk(path):\n",
    "\tfor fname in files:\n",
    "\t\tif('.csv' in fname): \n",
    "\n",
    "\t\t\tfull_name = os.path.join(root, fname)\n",
    "\t\t\tprint('In Processing :' + full_name)\n",
    "\t\t\tdata = pd.read_csv(full_name, header = 8)\n",
    "\t\t\tdata = data.iloc[:,[0,1,2,3,4]]\n",
    "\t\t\t\n",
    "\t\t\tevent = []\n",
    "\t\t\tdirection = []\n",
    "\n",
    "\t\t\tfor i in range(len(data.iloc[:,0])):\n",
    "\t\t\t\tif(data.iloc[i,-1] == 'RightOut'):\n",
    "\t\t\t\t\tevent.append('Right')\n",
    "\t\t\t\t\tdirection.append(data.iloc[i,1])\n",
    "\t\t\t\telif(data.iloc[i,-1] == 'LeftOut'):\n",
    "\t\t\t\t\tevent.append('Left')\n",
    "\t\t\t\t\tdirection.append(data.iloc[i,1])\n",
    "\n",
    "\t\t\tDF = pd.DataFrame(data = {'Event' : event, 'Direction' : direction, }, columns = ['Event', 'Direction'])\n",
    "\t\t\tDF.to_csv(path[:-4]+'/ITI/'+fname[21:], index = 0)"
   ]
  },
  {
   "cell_type": "code",
   "execution_count": 2,
   "metadata": {},
   "outputs": [
    {
     "name": "stdout",
     "output_type": "stream",
     "text": [
      "In Processing :F:\\Data\\Two-way active avoidance behavior\\Experiments 별 정리\\WT\\Female\\L158\\csv\\L158M1D1 WT.csv\n",
      "In Processing :F:\\Data\\Two-way active avoidance behavior\\Experiments 별 정리\\WT\\Female\\L158\\csv\\L158M1D2 WT.csv\n",
      "In Processing :F:\\Data\\Two-way active avoidance behavior\\Experiments 별 정리\\WT\\Female\\L158\\csv\\L158M1D3 WT.csv\n",
      "In Processing :F:\\Data\\Two-way active avoidance behavior\\Experiments 별 정리\\WT\\Female\\L158\\csv\\L158M1T WT.csv\n",
      "In Processing :F:\\Data\\Two-way active avoidance behavior\\Experiments 별 정리\\WT\\Female\\L158\\csv\\L158M2D1 WT.csv\n",
      "In Processing :F:\\Data\\Two-way active avoidance behavior\\Experiments 별 정리\\WT\\Female\\L158\\csv\\L158M2D2 WT.csv\n",
      "In Processing :F:\\Data\\Two-way active avoidance behavior\\Experiments 별 정리\\WT\\Female\\L158\\csv\\L158M2D3 WT.csv\n",
      "In Processing :F:\\Data\\Two-way active avoidance behavior\\Experiments 별 정리\\WT\\Female\\L158\\csv\\L158M2T WT.csv\n",
      "In Processing :F:\\Data\\Two-way active avoidance behavior\\Experiments 별 정리\\WT\\Female\\L158\\csv\\L158M3D1 WT.csv\n",
      "In Processing :F:\\Data\\Two-way active avoidance behavior\\Experiments 별 정리\\WT\\Female\\L158\\csv\\L158M3D2 WT.csv\n",
      "In Processing :F:\\Data\\Two-way active avoidance behavior\\Experiments 별 정리\\WT\\Female\\L158\\csv\\L158M3D3 WT.csv\n",
      "In Processing :F:\\Data\\Two-way active avoidance behavior\\Experiments 별 정리\\WT\\Female\\L158\\csv\\L158M3T WT.csv\n",
      "In Processing :F:\\Data\\Two-way active avoidance behavior\\Experiments 별 정리\\WT\\Female\\L158\\csv\\L158M4D1 WT.csv\n",
      "In Processing :F:\\Data\\Two-way active avoidance behavior\\Experiments 별 정리\\WT\\Female\\L158\\csv\\L158M4D2 WT.csv\n",
      "In Processing :F:\\Data\\Two-way active avoidance behavior\\Experiments 별 정리\\WT\\Female\\L158\\csv\\L158M4D3 WT.csv\n",
      "In Processing :F:\\Data\\Two-way active avoidance behavior\\Experiments 별 정리\\WT\\Female\\L158\\csv\\L158M4T WT.csv\n"
     ]
    }
   ],
   "source": [
    "import pandas as pd\n",
    "import os\n",
    "import numpy as np\n",
    "import math\n",
    "\n",
    "path = r'F:\\Data\\Two-way active avoidance behavior\\Experiments 별 정리\\WT\\Female\\L158\\csv'\n",
    "\n",
    "Subject = []\n",
    "TotalNumberofAvoidance1 = []\n",
    "AvoidanceLatency = []\n",
    "TotalITIavoidance = []\n",
    "for root, dirs, files in os.walk(path):\n",
    "    for fname in files:\n",
    "        if('.csv' in fname): \n",
    "            full_name = os.path.join(root, fname)\n",
    "            ITI_name = os.path.join(root[:-4]+'/ITI/',fname)\n",
    "            print('In Processing :' + full_name)\n",
    "            data = pd.read_csv(full_name, header = 0)\n",
    "            AvoidanceLatencylist = []\n",
    "            NumberofAvoidance2 = 0\n",
    "            NumberofEscape = 0\n",
    "            search = np.array(data['Event'].tolist())\n",
    "            if 'Avoidance+' in search:         \n",
    "                for i in range(len(data.iloc[:,0])):\n",
    "                    if(data.iloc[i,0] == 'Avoidance+'):\n",
    "                        NumberofAvoidance2 = NumberofAvoidance2 + 1\n",
    "            if 'Escape+' in search:         \n",
    "                for i in range(len(data.iloc[:,0])):\n",
    "                    if(data.iloc[i,0] == 'Escape+'):\n",
    "                        NumberofEscape = NumberofEscape + 1\n",
    "            \n",
    "            \n",
    "            for k in range(len(data.iloc[:,0])):\n",
    "                latency = data.iloc[k,2] - data.iloc[k,1]\n",
    "                AvoidanceLatencylist.append(latency)\n",
    "                AvoidanceLatency1 = sum(AvoidanceLatencylist)/len(AvoidanceLatencylist)\n",
    "            AvoidanceLatency.append(AvoidanceLatency1)\n",
    "            Subject.append(fname[:-4])\n",
    "            TotalNumberofAvoidance1.append(NumberofAvoidance2)\n",
    "            \n",
    "            data2 = pd.read_csv(ITI_name, header = 0)\n",
    "            ITIavoidance = len(data2.iloc[:,0]) - NumberofAvoidance2 - NumberofEscape\n",
    "            \n",
    "            TotalITIavoidance.append(ITIavoidance)\n",
    "            \n",
    "    df = pd.DataFrame(data = list(zip(Subject, TotalNumberofAvoidance1, AvoidanceLatency, TotalITIavoidance)), columns = ['Subject','Avoidance', 'Avoidance_Latency', 'ITI avoidance'])\n",
    "            \n",
    "    df.to_csv(path[:-4]+'/'+fname[:-4]+'_Avoidance.csv', index = 0)"
   ]
  },
  {
   "cell_type": "code",
   "execution_count": 44,
   "metadata": {},
   "outputs": [
    {
     "data": {
      "text/plain": [
       "105"
      ]
     },
     "execution_count": 44,
     "metadata": {},
     "output_type": "execute_result"
    }
   ],
   "source": [
    "len(data2.iloc[:,0])"
   ]
  }
 ],
 "metadata": {
  "kernelspec": {
   "display_name": "Python 3",
   "language": "python",
   "name": "python3"
  },
  "language_info": {
   "codemirror_mode": {
    "name": "ipython",
    "version": 3
   },
   "file_extension": ".py",
   "mimetype": "text/x-python",
   "name": "python",
   "nbconvert_exporter": "python",
   "pygments_lexer": "ipython3",
   "version": "3.8.5"
  }
 },
 "nbformat": 4,
 "nbformat_minor": 4
}
